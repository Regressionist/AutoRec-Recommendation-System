{
 "cells": [
  {
   "cell_type": "code",
   "execution_count": 1,
   "metadata": {},
   "outputs": [],
   "source": [
    "import pandas as pd\n",
    "import torch\n",
    "import torch.nn as nn\n",
    "import torch.nn.functional as F\n",
    "import numpy as np\n",
    "import torch.optim as optim\n",
    "from sklearn.utils import shuffle\n",
    "from torch.autograd import Variable"
   ]
  },
  {
   "cell_type": "code",
   "execution_count": 2,
   "metadata": {},
   "outputs": [
    {
     "name": "stdout",
     "output_type": "stream",
     "text": [
      "Dataframe size: (240447, 14277)\n"
     ]
    }
   ],
   "source": [
    "df=pd.read_csv('ratings.csv',names=['userID','movieID','rating','time'])\n",
    "df.drop('time',axis=1,inplace=True)\n",
    "users=[k for k,v in df['userID'].value_counts().iteritems() if v>2]\n",
    "movies=[k for k,v in df['movieID'].value_counts().iteritems() if v>10]\n",
    "df=df[(df['userID'].isin(users)) & (df['movieID'].isin(movies))]\n",
    "df=df.sample(frac=1).reset_index(drop=True)\n",
    "df=df.pivot(index='userID',columns='movieID',values='rating')\n",
    "df.reset_index(drop=True,inplace=True)\n",
    "print ('Dataframe size: {}'.format(df.shape))"
   ]
  },
  {
   "cell_type": "code",
   "execution_count": 3,
   "metadata": {},
   "outputs": [
    {
     "name": "stdout",
     "output_type": "stream",
     "text": [
      "Train dataframe size: (220000, 14277)\n",
      "Test dataframe size: (10447, 14277)\n",
      "Validation dataframe size: (10000, 14277)\n"
     ]
    }
   ],
   "source": [
    "train_df=(df.loc[:220000-1])\n",
    "print ('Train dataframe size: {}'.format(train_df.shape))\n",
    "test_df=df.loc[230000:].reset_index(drop=True)\n",
    "print ('Test dataframe size: {}'.format(test_df.shape))\n",
    "val_df=df.loc[220000:230000-1].reset_index(drop=True)\n",
    "print ('Validation dataframe size: {}'.format(val_df.shape))"
   ]
  },
  {
   "cell_type": "code",
   "execution_count": 15,
   "metadata": {},
   "outputs": [],
   "source": [
    "class Autorec(nn.Module):\n",
    "    def __init__(self, hidden_size_1, hidden_size_2, dropout, input_size):\n",
    "        super(Autorec, self).__init__()\n",
    "        self.input_size=input_size\n",
    "        self.hidden_size_1=hidden_size_1\n",
    "        self.hidden_size_2=hidden_size_2\n",
    "        \n",
    "        self.encoder_l1=nn.Linear(self.input_size, self.hidden_size_1)\n",
    "        self.encoder_l2=nn.Linear(self.hidden_size_1, self.hidden_size_2)\n",
    "        self.decoder_l1=nn.Linear(self.hidden_size_2, self.hidden_size_1)\n",
    "        self.decoder_l2=nn.Linear(self.hidden_size_1, self.input_size)\n",
    "        self.drop = nn.Dropout(dropout)\n",
    "        #self.sigmoid=nn.LogSigmoid()\n",
    "        \n",
    "        \n",
    "    def forward(self, input_ratings):\n",
    "        #input_ratings=F.normalize(input_ratings)\n",
    "        enc_out = F.relu(self.encoder_l2(F.relu(self.encoder_l1(input_ratings))))\n",
    "        enc_out=self.drop(enc_out)\n",
    "        dec_out = self.decoder_l2(F.relu(self.decoder_l1(enc_out)))\n",
    "        return dec_out"
   ]
  },
  {
   "cell_type": "code",
   "execution_count": 5,
   "metadata": {},
   "outputs": [],
   "source": [
    "def train_minibatch(input_ratings, mask, autorec, optimizer):\n",
    "    optimizer.zero_grad()\n",
    "    input_ratings=input_ratings.type(torch.cuda.FloatTensor)\n",
    "    mask=mask.type(torch.cuda.FloatTensor)\n",
    "    output_ratings=autorec(input_ratings)*mask\n",
    "    #loss=torch.mean(torch.sum((output_ratings-input_ratings)**2,-1)/torch.sum(mask,-1))\n",
    "    loss=criterion(input_ratings, output_ratings)\n",
    "    loss.backward()\n",
    "    optimizer.step()\n",
    "    return torch.sqrt(loss)"
   ]
  },
  {
   "cell_type": "code",
   "execution_count": 6,
   "metadata": {},
   "outputs": [],
   "source": [
    "def validation(input_ratings, mask, autorec):\n",
    "    with torch.no_grad():\n",
    "        input_ratings=input_ratings.type(torch.cuda.FloatTensor)\n",
    "        mask=mask.type(torch.cuda.FloatTensor)\n",
    "        output_ratings=autorec(input_ratings)*mask\n",
    "        loss=0\n",
    "        for i in range(output_ratings.size(0)):\n",
    "            indices=torch.nonzero(mask[i])\n",
    "            l=0\n",
    "            for idx in indices:\n",
    "                l+=(input_ratings[i][idx]-output_ratings[i][idx])**2\n",
    "            loss+=l/indices.size(0)\n",
    "        #loss=torch.mean(torch.sum((output_ratings-input_ratings)**2,-1)/torch.sum(mask,-1))\n",
    "        return (torch.sqrt(loss/mask.size(0))).item()"
   ]
  },
  {
   "cell_type": "code",
   "execution_count": 16,
   "metadata": {},
   "outputs": [],
   "source": [
    "autorec=Autorec(hidden_size_1=256, hidden_size_2=128, dropout=0.5, input_size=train_df.shape[1])\n",
    "optimizer=optim.Adam(autorec.parameters())\n",
    "device=torch.device('cuda')\n",
    "criterion=nn.MSELoss()\n",
    "autorec=autorec.to(device)"
   ]
  },
  {
   "cell_type": "code",
   "execution_count": 9,
   "metadata": {},
   "outputs": [],
   "source": [
    "val_mask=val_df.copy()\n",
    "val_mask[~val_mask.isnull()] = 1  # not nan\n",
    "val_mask[val_mask.isnull()] = 0   # nan\n",
    "val_df[val_df.isnull()] = 0   # nan"
   ]
  },
  {
   "cell_type": "code",
   "execution_count": 10,
   "metadata": {},
   "outputs": [],
   "source": [
    "input_users_val=torch.from_numpy(val_df.values).to(device).detach()\n",
    "mask_val=torch.from_numpy(val_mask.values).to(device).detach()"
   ]
  },
  {
   "cell_type": "code",
   "execution_count": null,
   "metadata": {},
   "outputs": [],
   "source": [
    "checkpoint = torch.load('model.pth')\n",
    "autorec.load_state_dict(checkpoint['autorec_state_dict'])\n",
    "optimizer.load_state_dict(checkpoint['optimizer_state_dict'])\n",
    "autorec.eval()"
   ]
  },
  {
   "cell_type": "code",
   "execution_count": null,
   "metadata": {},
   "outputs": [
    {
     "name": "stdout",
     "output_type": "stream",
     "text": [
      "Batch: 1 | Step: 1/5 | Training Loss: 8437.022769927979 | Validation RMSE: 0.9937\n",
      "%---Saving the model---%\n",
      "Batch: 1 | Step: 2/5 | Training Loss: 8524.698258399963 | Validation RMSE: 0.998\n",
      "Batch: 1 | Step: 3/5 | Training Loss: 8436.994282722473 | Validation RMSE: 0.998\n",
      "Batch: 1 | Step: 4/5 | Training Loss: 8234.050210952759 | Validation RMSE: 0.9949\n",
      "Batch: 1 | Step: 5/5 | Training Loss: 8325.704956054688 | Validation RMSE: 0.999\n"
     ]
    }
   ],
   "source": [
    "num_batches=5\n",
    "#val_benchmark=10\n",
    "\n",
    "counter=0\n",
    "\n",
    "for batch in range(0,num_batches):\n",
    "    running_loss=0\n",
    "    counter=0\n",
    "    #train_df = shuffle(train_df)\n",
    "    while counter <train_df.shape[0]:\n",
    "        tdf=(train_df.loc[counter:counter+99].copy())\n",
    "        train_mask=tdf.copy()\n",
    "        train_mask[~train_mask.isnull()] = 1  # not nan\n",
    "        train_mask[train_mask.isnull()] = 0   # nan\n",
    "        tdf[tdf.isnull()] = 0\n",
    "        \n",
    "        assert tdf.shape[0]==100\n",
    "        input_users=Variable(torch.from_numpy(tdf.values)).to(device)\n",
    "        input_mask=torch.from_numpy(train_mask.values).to(device)\n",
    "        loss=train_minibatch(input_users, input_mask, autorec, optimizer)\n",
    "        running_loss+=loss.item()\n",
    "        \n",
    "        if (counter+100)%44000==0:\n",
    "            val_rmse=validation(input_users_val, mask_val, autorec)\n",
    "            print ('Batch: {} | Step: {}/{} | Training Loss: {} | Validation RMSE: {}'.format(batch+1,int((counter+100)/44000),5,running_loss,round(val_rmse,4) ))\n",
    "            running_loss=0\n",
    "            if(val_rmse<val_benchmark):\n",
    "                print ('%---Saving the model---%')\n",
    "                torch.save({\n",
    "                    'step':counter+1,\n",
    "                    'autorec_state_dict': autorec.state_dict(),\n",
    "                    'optimizer_state_dict': optimizer.state_dict(),\n",
    "                    'batch':batch,\n",
    "                    'loss':val_rmse\n",
    "                   },'model_autorec.pth')\n",
    "                val_benchmark=val_rmse\n",
    "        counter=counter+100"
   ]
  },
  {
   "cell_type": "code",
   "execution_count": 10,
   "metadata": {},
   "outputs": [],
   "source": [
    "test_mask=test_df.copy()\n",
    "test_mask[~test_mask.isnull()] = 1  # not nan\n",
    "test_mask[test_mask.isnull()] = 0   # nan\n",
    "test_df[test_df.isnull()] = 0   # nan"
   ]
  },
  {
   "cell_type": "code",
   "execution_count": null,
   "metadata": {},
   "outputs": [],
   "source": [
    "input_users_test=torch.from_numpy(test_df.values).to(device).detach()\n",
    "mask_test=torch.from_numpy(test_mask.values).to(device).detach()\n",
    "#print ('RMSE: {}, Precision@10: {}'.format(validation(input_users_test, mask_test, autorec)))"
   ]
  },
  {
   "cell_type": "code",
   "execution_count": 12,
   "metadata": {},
   "outputs": [
    {
     "name": "stdout",
     "output_type": "stream",
     "text": [
      "RMSE: 0.8058728485650766, Precision@10: 0.8329706202393907\n"
     ]
    }
   ],
   "source": [
    "rmse,prec=validation(input_users_test, mask_test, autorec)\n",
    "print ('RMSE: {}, Precision@10: {}'.format(rmse,prec))"
   ]
  },
  {
   "cell_type": "code",
   "execution_count": 26,
   "metadata": {},
   "outputs": [
    {
     "data": {
      "text/plain": [
       "(219000, 14277)"
      ]
     },
     "execution_count": 26,
     "metadata": {},
     "output_type": "execute_result"
    }
   ],
   "source": [
    "train_df.shape"
   ]
  }
 ],
 "metadata": {
  "kernelspec": {
   "display_name": "Python 3",
   "language": "python",
   "name": "python3"
  },
  "language_info": {
   "codemirror_mode": {
    "name": "ipython",
    "version": 3
   },
   "file_extension": ".py",
   "mimetype": "text/x-python",
   "name": "python",
   "nbconvert_exporter": "python",
   "pygments_lexer": "ipython3",
   "version": "3.6.6"
  }
 },
 "nbformat": 4,
 "nbformat_minor": 2
}
