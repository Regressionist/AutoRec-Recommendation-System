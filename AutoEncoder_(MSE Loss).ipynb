{
 "cells": [
  {
   "cell_type": "code",
   "execution_count": 1,
   "metadata": {},
   "outputs": [],
   "source": [
    "import pandas as pd\n",
    "import torch\n",
    "import torch.nn as nn\n",
    "import torch.nn.functional as F\n",
    "import numpy as np\n",
    "import torch.optim as optim\n",
    "from sklearn.utils import shuffle\n",
    "from torch.autograd import Variable"
   ]
  },
  {
   "cell_type": "code",
   "execution_count": 2,
   "metadata": {},
   "outputs": [
    {
     "name": "stdout",
     "output_type": "stream",
     "text": [
      "Dataframe size: (240447, 14277)\n"
     ]
    }
   ],
   "source": [
    "df=pd.read_csv('ratings.csv',names=['userID','movieID','rating','time'])\n",
    "df.drop('time',axis=1,inplace=True)\n",
    "users=[k for k,v in df['userID'].value_counts().iteritems() if v>2]\n",
    "movies=[k for k,v in df['movieID'].value_counts().iteritems() if v>10]\n",
    "df=df[(df['userID'].isin(users)) & (df['movieID'].isin(movies))]\n",
    "#df=df.sample(frac=1).reset_index(drop=True)\n",
    "df=df.pivot(index='userID',columns='movieID',values='rating')\n",
    "df.reset_index(drop=True,inplace=True)\n",
    "print ('Dataframe size: {}'.format(df.shape))"
   ]
  },
  {
   "cell_type": "code",
   "execution_count": 3,
   "metadata": {},
   "outputs": [
    {
     "name": "stdout",
     "output_type": "stream",
     "text": [
      "Train dataframe size: (220000, 14277)\n",
      "Test dataframe size: (10447, 14277)\n",
      "Validation dataframe size: (10000, 14277)\n"
     ]
    }
   ],
   "source": [
    "train_df=(df.loc[:220000-1])\n",
    "print ('Train dataframe size: {}'.format(train_df.shape))\n",
    "test_df=df.loc[230000:].reset_index(drop=True)\n",
    "print ('Test dataframe size: {}'.format(test_df.shape))\n",
    "val_df=df.loc[220000:230000-1].reset_index(drop=True)\n",
    "print ('Validation dataframe size: {}'.format(val_df.shape))"
   ]
  },
  {
   "cell_type": "code",
   "execution_count": 4,
   "metadata": {},
   "outputs": [],
   "source": [
    "class Autorec(nn.Module):\n",
    "    def __init__(self, hidden_size_1, hidden_size_2, dropout, input_size):\n",
    "        super(Autorec, self).__init__()\n",
    "        self.input_size=input_size\n",
    "        self.hidden_size_1=hidden_size_1\n",
    "        self.hidden_size_2=hidden_size_2\n",
    "        \n",
    "        self.encoder_l1=nn.Linear(self.input_size, self.hidden_size_1)\n",
    "        self.encoder_l2=nn.Linear(self.hidden_size_1, self.hidden_size_2)\n",
    "        self.decoder_l1=nn.Linear(self.hidden_size_2, self.hidden_size_1)\n",
    "        self.decoder_l2=nn.Linear(self.hidden_size_1, self.input_size)\n",
    "        self.drop = nn.Dropout(dropout)\n",
    "        #self.sigmoid=nn.LogSigmoid()\n",
    "        \n",
    "        \n",
    "    def forward(self, input_ratings):\n",
    "        #input_ratings=F.normalize(input_ratings)\n",
    "        enc_out = F.relu(self.encoder_l2(F.relu(self.encoder_l1(input_ratings))))\n",
    "        enc_out=self.drop(enc_out)\n",
    "        dec_out = self.decoder_l2(F.relu(self.decoder_l1(enc_out)))\n",
    "        return dec_out"
   ]
  },
  {
   "cell_type": "code",
   "execution_count": 5,
   "metadata": {},
   "outputs": [],
   "source": [
    "def train_minibatch(input_ratings, autorec, optimizer,criterion):\n",
    "    optimizer.zero_grad()\n",
    "    input_ratings=input_ratings.type(torch.cuda.FloatTensor)\n",
    "    mask=input_ratings!=0\n",
    "    mask=mask.type(torch.cuda.FloatTensor)\n",
    "    output_ratings=autorec(input_ratings)*mask\n",
    "    #loss=torch.mean(torch.sum((output_ratings-input_ratings)**2,-1)/torch.sum(mask,-1))\n",
    "    loss=criterion(input_ratings, output_ratings)\n",
    "    loss.backward()\n",
    "    optimizer.step()\n",
    "    return torch.sqrt(loss)"
   ]
  },
  {
   "cell_type": "code",
   "execution_count": 6,
   "metadata": {},
   "outputs": [],
   "source": [
    "def validation(input_ratings, autorec):\n",
    "    with torch.no_grad():\n",
    "        input_ratings=input_ratings.type(torch.cuda.FloatTensor)\n",
    "        mask=input_ratings!=0\n",
    "        mask=mask.type(torch.cuda.FloatTensor)\n",
    "        output_ratings=autorec(input_ratings)*mask\n",
    "        loss=0\n",
    "        for i in range(output_ratings.size(0)):\n",
    "            indices=torch.nonzero(mask[i])\n",
    "            l=0\n",
    "            for idx in indices:\n",
    "                l+=(input_ratings[i][idx]-output_ratings[i][idx])**2\n",
    "            loss+=l/indices.size(0)\n",
    "        #loss=torch.mean(torch.sum((output_ratings-input_ratings)**2,-1)/torch.sum(mask,-1))\n",
    "        return (torch.sqrt(loss/mask.size(0))).item()"
   ]
  },
  {
   "cell_type": "code",
   "execution_count": 7,
   "metadata": {},
   "outputs": [],
   "source": [
    "autorec=Autorec(hidden_size_1=1024, hidden_size_2=512, dropout=0.5, input_size=train_df.shape[1])\n",
    "optimizer=optim.Adam(autorec.parameters())\n",
    "device=torch.device('cuda')\n",
    "criterion=nn.MSELoss()\n",
    "autorec=autorec.to(device)"
   ]
  },
  {
   "cell_type": "code",
   "execution_count": 8,
   "metadata": {},
   "outputs": [],
   "source": [
    "#val_mask=val_df.copy()\n",
    "#val_mask[~val_mask.isnull()] = 1  # not nan\n",
    "#val_mask[val_mask.isnull()] = 0   # nan\n",
    "val_df[val_df.isnull()] = 0   # nan"
   ]
  },
  {
   "cell_type": "code",
   "execution_count": 9,
   "metadata": {},
   "outputs": [],
   "source": [
    "input_users_val=torch.from_numpy(val_df.values).to(device).detach()\n",
    "#mask_val=torch.from_numpy(val_mask.values).to(device).detach()"
   ]
  },
  {
   "cell_type": "code",
   "execution_count": 12,
   "metadata": {},
   "outputs": [
    {
     "data": {
      "text/plain": [
       "Autorec(\n",
       "  (encoder_l1): Linear(in_features=14277, out_features=1024, bias=True)\n",
       "  (encoder_l2): Linear(in_features=1024, out_features=512, bias=True)\n",
       "  (decoder_l1): Linear(in_features=512, out_features=1024, bias=True)\n",
       "  (decoder_l2): Linear(in_features=1024, out_features=14277, bias=True)\n",
       "  (drop): Dropout(p=0.5)\n",
       ")"
      ]
     },
     "execution_count": 12,
     "metadata": {},
     "output_type": "execute_result"
    }
   ],
   "source": [
    "checkpoint = torch.load('model_autorec.pth')\n",
    "autorec.load_state_dict(checkpoint['autorec_state_dict'])\n",
    "optimizer.load_state_dict(checkpoint['optimizer_state_dict'])\n",
    "vl=checkpoint['val_loss']\n",
    "tl=checkpoint['training_loss']\n",
    "autorec.eval()"
   ]
  },
  {
   "cell_type": "code",
   "execution_count": 11,
   "metadata": {},
   "outputs": [
    {
     "name": "stdout",
     "output_type": "stream",
     "text": [
      "Batch: 1 | Step: 1/5 | Training Loss: 7206.790283203125 | Validation RMSE: 0.9783\n",
      "Batch: 1 | Step: 2/5 | Training Loss: 7233.668427467346 | Validation RMSE: 0.977\n",
      "Batch: 1 | Step: 3/5 | Training Loss: 7211.009561538696 | Validation RMSE: 0.9774\n",
      "Batch: 1 | Step: 4/5 | Training Loss: 7329.833559036255 | Validation RMSE: 0.9752\n",
      "Batch: 1 | Step: 5/5 | Training Loss: 7434.099720954895 | Validation RMSE: 0.9821\n",
      "Batch: 2 | Step: 1/5 | Training Loss: 7198.856888771057 | Validation RMSE: 0.9837\n",
      "Batch: 2 | Step: 2/5 | Training Loss: 7515.976016044617 | Validation RMSE: 0.9769\n",
      "Batch: 2 | Step: 3/5 | Training Loss: 7147.465096473694 | Validation RMSE: 0.9813\n",
      "Batch: 2 | Step: 4/5 | Training Loss: 8828.26476097107 | Validation RMSE: 0.9796\n",
      "Batch: 2 | Step: 5/5 | Training Loss: 7288.644400596619 | Validation RMSE: 0.9862\n",
      "Batch: 3 | Step: 1/5 | Training Loss: 7147.755010604858 | Validation RMSE: 0.9845\n",
      "Batch: 3 | Step: 2/5 | Training Loss: 8041.410876274109 | Validation RMSE: 0.9781\n",
      "Batch: 3 | Step: 3/5 | Training Loss: 7087.721940994263 | Validation RMSE: 0.9755\n",
      "Batch: 3 | Step: 4/5 | Training Loss: 7016.856719970703 | Validation RMSE: 0.9764\n",
      "Batch: 3 | Step: 5/5 | Training Loss: 7171.029657363892 | Validation RMSE: 0.9809\n",
      "Batch: 4 | Step: 1/5 | Training Loss: 7096.036684036255 | Validation RMSE: 0.977\n",
      "Batch: 4 | Step: 2/5 | Training Loss: 7162.0314264297485 | Validation RMSE: 0.9766\n",
      "Batch: 4 | Step: 3/5 | Training Loss: 7120.937470436096 | Validation RMSE: 0.9775\n",
      "Batch: 4 | Step: 4/5 | Training Loss: 6919.410675048828 | Validation RMSE: 0.9802\n",
      "Batch: 4 | Step: 5/5 | Training Loss: 7180.370104789734 | Validation RMSE: 0.9806\n",
      "Batch: 5 | Step: 1/5 | Training Loss: 7093.379957199097 | Validation RMSE: 0.9801\n",
      "Batch: 5 | Step: 2/5 | Training Loss: 7161.322492599487 | Validation RMSE: 0.9794\n",
      "Batch: 5 | Step: 3/5 | Training Loss: 7065.260985374451 | Validation RMSE: 0.9788\n",
      "Batch: 5 | Step: 4/5 | Training Loss: 7303.0841245651245 | Validation RMSE: 0.9788\n",
      "Batch: 5 | Step: 5/5 | Training Loss: 7138.1320333480835 | Validation RMSE: 0.9788\n",
      "Batch: 6 | Step: 1/5 | Training Loss: 7352.663503646851 | Validation RMSE: 0.9764\n",
      "Batch: 6 | Step: 2/5 | Training Loss: 7062.824684143066 | Validation RMSE: 0.9809\n",
      "Batch: 6 | Step: 3/5 | Training Loss: 7051.898160934448 | Validation RMSE: 0.979\n",
      "Batch: 6 | Step: 4/5 | Training Loss: 8010.961177825928 | Validation RMSE: 0.9768\n",
      "Batch: 6 | Step: 5/5 | Training Loss: 7068.7541790008545 | Validation RMSE: 0.9808\n",
      "Batch: 7 | Step: 1/5 | Training Loss: 7041.268755912781 | Validation RMSE: 0.978\n",
      "Batch: 7 | Step: 2/5 | Training Loss: 7038.410723686218 | Validation RMSE: 0.9832\n",
      "Batch: 7 | Step: 3/5 | Training Loss: 7029.581161499023 | Validation RMSE: 0.9758\n",
      "Batch: 7 | Step: 4/5 | Training Loss: 7206.409125328064 | Validation RMSE: 0.9737\n",
      "Batch: 7 | Step: 5/5 | Training Loss: 7254.347373008728 | Validation RMSE: 0.9834\n",
      "Batch: 8 | Step: 1/5 | Training Loss: 7011.0608558654785 | Validation RMSE: 0.9702\n",
      "%---Saving the model---%\n",
      "Batch: 8 | Step: 2/5 | Training Loss: 7094.080035209656 | Validation RMSE: 0.9766\n",
      "Batch: 8 | Step: 3/5 | Training Loss: 7017.54284954071 | Validation RMSE: 0.9721\n",
      "Batch: 8 | Step: 4/5 | Training Loss: 6833.61434173584 | Validation RMSE: 0.9752\n",
      "Batch: 8 | Step: 5/5 | Training Loss: 7189.453407287598 | Validation RMSE: 0.9812\n",
      "Batch: 9 | Step: 1/5 | Training Loss: 6983.783911705017 | Validation RMSE: 0.9729\n"
     ]
    },
    {
     "ename": "KeyboardInterrupt",
     "evalue": "",
     "output_type": "error",
     "traceback": [
      "\u001b[0;31m---------------------------------------------------------------------------\u001b[0m",
      "\u001b[0;31mKeyboardInterrupt\u001b[0m                         Traceback (most recent call last)",
      "\u001b[0;32m<ipython-input-11-93d3c421f738>\u001b[0m in \u001b[0;36m<module>\u001b[0;34m\u001b[0m\n\u001b[1;32m     14\u001b[0m         \u001b[0;31m#train_mask[~train_mask.isnull()] = 1  # not nan\u001b[0m\u001b[0;34m\u001b[0m\u001b[0;34m\u001b[0m\u001b[0m\n\u001b[1;32m     15\u001b[0m         \u001b[0;31m#train_mask[train_mask.isnull()] = 0   # nan\u001b[0m\u001b[0;34m\u001b[0m\u001b[0;34m\u001b[0m\u001b[0m\n\u001b[0;32m---> 16\u001b[0;31m         \u001b[0mtdf\u001b[0m\u001b[0;34m[\u001b[0m\u001b[0mtdf\u001b[0m\u001b[0;34m.\u001b[0m\u001b[0misnull\u001b[0m\u001b[0;34m(\u001b[0m\u001b[0;34m)\u001b[0m\u001b[0;34m]\u001b[0m \u001b[0;34m=\u001b[0m \u001b[0;36m0\u001b[0m\u001b[0;34m\u001b[0m\u001b[0m\n\u001b[0m\u001b[1;32m     17\u001b[0m \u001b[0;34m\u001b[0m\u001b[0m\n\u001b[1;32m     18\u001b[0m         \u001b[0;32massert\u001b[0m \u001b[0mtdf\u001b[0m\u001b[0;34m.\u001b[0m\u001b[0mshape\u001b[0m\u001b[0;34m[\u001b[0m\u001b[0;36m0\u001b[0m\u001b[0;34m]\u001b[0m\u001b[0;34m==\u001b[0m\u001b[0;36m100\u001b[0m\u001b[0;34m\u001b[0m\u001b[0m\n",
      "\u001b[0;32m~/anaconda3/lib/python3.6/site-packages/pandas/core/frame.py\u001b[0m in \u001b[0;36m__setitem__\u001b[0;34m(self, key, value)\u001b[0m\n\u001b[1;32m   3112\u001b[0m \u001b[0;34m\u001b[0m\u001b[0m\n\u001b[1;32m   3113\u001b[0m         \u001b[0;32mif\u001b[0m \u001b[0misinstance\u001b[0m\u001b[0;34m(\u001b[0m\u001b[0mkey\u001b[0m\u001b[0;34m,\u001b[0m \u001b[0mDataFrame\u001b[0m\u001b[0;34m)\u001b[0m \u001b[0;32mor\u001b[0m \u001b[0mgetattr\u001b[0m\u001b[0;34m(\u001b[0m\u001b[0mkey\u001b[0m\u001b[0;34m,\u001b[0m \u001b[0;34m'ndim'\u001b[0m\u001b[0;34m,\u001b[0m \u001b[0;32mNone\u001b[0m\u001b[0;34m)\u001b[0m \u001b[0;34m==\u001b[0m \u001b[0;36m2\u001b[0m\u001b[0;34m:\u001b[0m\u001b[0;34m\u001b[0m\u001b[0m\n\u001b[0;32m-> 3114\u001b[0;31m             \u001b[0mself\u001b[0m\u001b[0;34m.\u001b[0m\u001b[0m_setitem_frame\u001b[0m\u001b[0;34m(\u001b[0m\u001b[0mkey\u001b[0m\u001b[0;34m,\u001b[0m \u001b[0mvalue\u001b[0m\u001b[0;34m)\u001b[0m\u001b[0;34m\u001b[0m\u001b[0m\n\u001b[0m\u001b[1;32m   3115\u001b[0m         \u001b[0;32melif\u001b[0m \u001b[0misinstance\u001b[0m\u001b[0;34m(\u001b[0m\u001b[0mkey\u001b[0m\u001b[0;34m,\u001b[0m \u001b[0;34m(\u001b[0m\u001b[0mSeries\u001b[0m\u001b[0;34m,\u001b[0m \u001b[0mnp\u001b[0m\u001b[0;34m.\u001b[0m\u001b[0mndarray\u001b[0m\u001b[0;34m,\u001b[0m \u001b[0mlist\u001b[0m\u001b[0;34m,\u001b[0m \u001b[0mIndex\u001b[0m\u001b[0;34m)\u001b[0m\u001b[0;34m)\u001b[0m\u001b[0;34m:\u001b[0m\u001b[0;34m\u001b[0m\u001b[0m\n\u001b[1;32m   3116\u001b[0m             \u001b[0mself\u001b[0m\u001b[0;34m.\u001b[0m\u001b[0m_setitem_array\u001b[0m\u001b[0;34m(\u001b[0m\u001b[0mkey\u001b[0m\u001b[0;34m,\u001b[0m \u001b[0mvalue\u001b[0m\u001b[0;34m)\u001b[0m\u001b[0;34m\u001b[0m\u001b[0m\n",
      "\u001b[0;32m~/anaconda3/lib/python3.6/site-packages/pandas/core/frame.py\u001b[0m in \u001b[0;36m_setitem_frame\u001b[0;34m(self, key, value)\u001b[0m\n\u001b[1;32m   3161\u001b[0m         \u001b[0mself\u001b[0m\u001b[0;34m.\u001b[0m\u001b[0m_check_inplace_setting\u001b[0m\u001b[0;34m(\u001b[0m\u001b[0mvalue\u001b[0m\u001b[0;34m)\u001b[0m\u001b[0;34m\u001b[0m\u001b[0m\n\u001b[1;32m   3162\u001b[0m         \u001b[0mself\u001b[0m\u001b[0;34m.\u001b[0m\u001b[0m_check_setitem_copy\u001b[0m\u001b[0;34m(\u001b[0m\u001b[0;34m)\u001b[0m\u001b[0;34m\u001b[0m\u001b[0m\n\u001b[0;32m-> 3163\u001b[0;31m         \u001b[0mself\u001b[0m\u001b[0;34m.\u001b[0m\u001b[0m_where\u001b[0m\u001b[0;34m(\u001b[0m\u001b[0;34m-\u001b[0m\u001b[0mkey\u001b[0m\u001b[0;34m,\u001b[0m \u001b[0mvalue\u001b[0m\u001b[0;34m,\u001b[0m \u001b[0minplace\u001b[0m\u001b[0;34m=\u001b[0m\u001b[0;32mTrue\u001b[0m\u001b[0;34m)\u001b[0m\u001b[0;34m\u001b[0m\u001b[0m\n\u001b[0m\u001b[1;32m   3164\u001b[0m \u001b[0;34m\u001b[0m\u001b[0m\n\u001b[1;32m   3165\u001b[0m     \u001b[0;32mdef\u001b[0m \u001b[0m_ensure_valid_index\u001b[0m\u001b[0;34m(\u001b[0m\u001b[0mself\u001b[0m\u001b[0;34m,\u001b[0m \u001b[0mvalue\u001b[0m\u001b[0;34m)\u001b[0m\u001b[0;34m:\u001b[0m\u001b[0;34m\u001b[0m\u001b[0m\n",
      "\u001b[0;32m~/anaconda3/lib/python3.6/site-packages/pandas/core/generic.py\u001b[0m in \u001b[0;36m_where\u001b[0;34m(self, cond, other, inplace, axis, level, errors, try_cast)\u001b[0m\n\u001b[1;32m   7530\u001b[0m         \u001b[0;32melse\u001b[0m\u001b[0;34m:\u001b[0m\u001b[0;34m\u001b[0m\u001b[0m\n\u001b[1;32m   7531\u001b[0m             \u001b[0;32mfor\u001b[0m \u001b[0mdt\u001b[0m \u001b[0;32min\u001b[0m \u001b[0mcond\u001b[0m\u001b[0;34m.\u001b[0m\u001b[0mdtypes\u001b[0m\u001b[0;34m:\u001b[0m\u001b[0;34m\u001b[0m\u001b[0m\n\u001b[0;32m-> 7532\u001b[0;31m                 \u001b[0;32mif\u001b[0m \u001b[0;32mnot\u001b[0m \u001b[0mis_bool_dtype\u001b[0m\u001b[0;34m(\u001b[0m\u001b[0mdt\u001b[0m\u001b[0;34m)\u001b[0m\u001b[0;34m:\u001b[0m\u001b[0;34m\u001b[0m\u001b[0m\n\u001b[0m\u001b[1;32m   7533\u001b[0m                     \u001b[0;32mraise\u001b[0m \u001b[0mValueError\u001b[0m\u001b[0;34m(\u001b[0m\u001b[0mmsg\u001b[0m\u001b[0;34m.\u001b[0m\u001b[0mformat\u001b[0m\u001b[0;34m(\u001b[0m\u001b[0mdtype\u001b[0m\u001b[0;34m=\u001b[0m\u001b[0mdt\u001b[0m\u001b[0;34m)\u001b[0m\u001b[0;34m)\u001b[0m\u001b[0;34m\u001b[0m\u001b[0m\n\u001b[1;32m   7534\u001b[0m \u001b[0;34m\u001b[0m\u001b[0m\n",
      "\u001b[0;32m~/anaconda3/lib/python3.6/site-packages/pandas/core/dtypes/common.py\u001b[0m in \u001b[0;36mis_bool_dtype\u001b[0;34m(arr_or_dtype)\u001b[0m\n\u001b[1;32m   1615\u001b[0m         \u001b[0;32mreturn\u001b[0m \u001b[0;32mFalse\u001b[0m\u001b[0;34m\u001b[0m\u001b[0m\n\u001b[1;32m   1616\u001b[0m \u001b[0;34m\u001b[0m\u001b[0m\n\u001b[0;32m-> 1617\u001b[0;31m     \u001b[0;32mif\u001b[0m \u001b[0misinstance\u001b[0m\u001b[0;34m(\u001b[0m\u001b[0marr_or_dtype\u001b[0m\u001b[0;34m,\u001b[0m \u001b[0mABCIndexClass\u001b[0m\u001b[0;34m)\u001b[0m\u001b[0;34m:\u001b[0m\u001b[0;34m\u001b[0m\u001b[0m\n\u001b[0m\u001b[1;32m   1618\u001b[0m \u001b[0;34m\u001b[0m\u001b[0m\n\u001b[1;32m   1619\u001b[0m         \u001b[0;31m# TODO(jreback)\u001b[0m\u001b[0;34m\u001b[0m\u001b[0;34m\u001b[0m\u001b[0m\n",
      "\u001b[0;32m~/anaconda3/lib/python3.6/site-packages/pandas/core/dtypes/generic.py\u001b[0m in \u001b[0;36m_check\u001b[0;34m(cls, inst)\u001b[0m\n\u001b[1;32m      7\u001b[0m     \u001b[0;34m@\u001b[0m\u001b[0mclassmethod\u001b[0m\u001b[0;34m\u001b[0m\u001b[0m\n\u001b[1;32m      8\u001b[0m     \u001b[0;32mdef\u001b[0m \u001b[0m_check\u001b[0m\u001b[0;34m(\u001b[0m\u001b[0mcls\u001b[0m\u001b[0;34m,\u001b[0m \u001b[0minst\u001b[0m\u001b[0;34m)\u001b[0m\u001b[0;34m:\u001b[0m\u001b[0;34m\u001b[0m\u001b[0m\n\u001b[0;32m----> 9\u001b[0;31m         \u001b[0;32mreturn\u001b[0m \u001b[0mgetattr\u001b[0m\u001b[0;34m(\u001b[0m\u001b[0minst\u001b[0m\u001b[0;34m,\u001b[0m \u001b[0mattr\u001b[0m\u001b[0;34m,\u001b[0m \u001b[0;34m'_typ'\u001b[0m\u001b[0;34m)\u001b[0m \u001b[0;32min\u001b[0m \u001b[0mcomp\u001b[0m\u001b[0;34m\u001b[0m\u001b[0m\n\u001b[0m\u001b[1;32m     10\u001b[0m \u001b[0;34m\u001b[0m\u001b[0m\n\u001b[1;32m     11\u001b[0m     \u001b[0mdct\u001b[0m \u001b[0;34m=\u001b[0m \u001b[0mdict\u001b[0m\u001b[0;34m(\u001b[0m\u001b[0m__instancecheck__\u001b[0m\u001b[0;34m=\u001b[0m\u001b[0m_check\u001b[0m\u001b[0;34m,\u001b[0m \u001b[0m__subclasscheck__\u001b[0m\u001b[0;34m=\u001b[0m\u001b[0m_check\u001b[0m\u001b[0;34m)\u001b[0m\u001b[0;34m\u001b[0m\u001b[0m\n",
      "\u001b[0;31mKeyboardInterrupt\u001b[0m: "
     ]
    }
   ],
   "source": [
    "num_batches=10\n",
    "#val_benchmark=2\n",
    "#vl=[]\n",
    "#tl=[]\n",
    "counter=0\n",
    "\n",
    "for batch in range(0,num_batches):\n",
    "    running_loss=0\n",
    "    counter=0\n",
    "    #train_df = shuffle(train_df)\n",
    "    while counter <train_df.shape[0]:\n",
    "        tdf=(train_df.loc[counter:counter+99].copy())\n",
    "        #train_mask=tdf.copy()\n",
    "        #train_mask[~train_mask.isnull()] = 1  # not nan\n",
    "        #train_mask[train_mask.isnull()] = 0   # nan\n",
    "        tdf[tdf.isnull()] = 0\n",
    "        \n",
    "        assert tdf.shape[0]==100\n",
    "        input_users=Variable(torch.from_numpy(tdf.values)).to(device)\n",
    "        #input_mask=torch.from_numpy(train_mask.values).to(device)\n",
    "        loss=train_minibatch(input_users, autorec, optimizer,criterion)\n",
    "        running_loss+=loss.item()\n",
    "        tl.append(loss.item())\n",
    "        \n",
    "        if (counter+100)%44000==0:\n",
    "            val_rmse=validation(input_users_val, autorec)\n",
    "            vl.append(val_rmse)\n",
    "            print ('Batch: {} | Step: {}/{} | Training Loss: {} | Validation RMSE: {}'.format(batch+1,int((counter+100)/44000),5,running_loss,round(val_rmse,4) ))\n",
    "            running_loss=0\n",
    "            if(val_rmse<val_benchmark):\n",
    "                print ('%---Saving the model---%')\n",
    "                torch.save({\n",
    "                    'step':counter+1,\n",
    "                    'autorec_state_dict': autorec.state_dict(),\n",
    "                    'optimizer_state_dict': optimizer.state_dict(),\n",
    "                    'batch':batch,\n",
    "                    'val_loss':vl,\n",
    "                    'training_loss':tl\n",
    "                   },'model_autorec.pth')\n",
    "                val_benchmark=val_rmse\n",
    "        counter=counter+100"
   ]
  },
  {
   "cell_type": "code",
   "execution_count": 13,
   "metadata": {},
   "outputs": [],
   "source": [
    "#test_mask=test_df.copy()\n",
    "#test_mask[~test_mask.isnull()] = 1  # not nan\n",
    "#test_mask[test_mask.isnull()] = 0   # nan\n",
    "test_df[test_df.isnull()] = 0   # nan"
   ]
  },
  {
   "cell_type": "code",
   "execution_count": 14,
   "metadata": {},
   "outputs": [],
   "source": [
    "input_users_test=torch.from_numpy(test_df.values).to(device).detach()\n",
    "#mask_test=torch.from_numpy(test_mask.values).to(device).detach()\n",
    "#print ('RMSE: {}, Precision@10: {}'.format(validation(input_users_test, mask_test, autorec)))"
   ]
  },
  {
   "cell_type": "code",
   "execution_count": 15,
   "metadata": {},
   "outputs": [
    {
     "name": "stdout",
     "output_type": "stream",
     "text": [
      "RMSE: 0.9428205490112305\n"
     ]
    }
   ],
   "source": [
    "rmse=validation(input_users_test, autorec)\n",
    "print ('RMSE: {}'.format(rmse))"
   ]
  }
 ],
 "metadata": {
  "kernelspec": {
   "display_name": "Python 3",
   "language": "python",
   "name": "python3"
  },
  "language_info": {
   "codemirror_mode": {
    "name": "ipython",
    "version": 3
   },
   "file_extension": ".py",
   "mimetype": "text/x-python",
   "name": "python",
   "nbconvert_exporter": "python",
   "pygments_lexer": "ipython3",
   "version": "3.6.6"
  }
 },
 "nbformat": 4,
 "nbformat_minor": 2
}
